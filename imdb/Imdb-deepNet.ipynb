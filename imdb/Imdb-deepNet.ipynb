{
 "cells": [
  {
   "cell_type": "code",
   "execution_count": 3,
   "metadata": {},
   "outputs": [],
   "source": [
    "from keras.models import Sequential"
   ]
  },
  {
   "cell_type": "code",
   "execution_count": 4,
   "metadata": {},
   "outputs": [],
   "source": [
    "from keras.datasets import imdb"
   ]
  },
  {
   "cell_type": "code",
   "execution_count": 5,
   "metadata": {},
   "outputs": [],
   "source": [
    "(train_data,train_labels),(test_data,test_labels) = imdb.load_data(num_words=10000)"
   ]
  },
  {
   "cell_type": "code",
   "execution_count": 6,
   "metadata": {},
   "outputs": [
    {
     "name": "stdout",
     "output_type": "stream",
     "text": [
      "(25000,)\n",
      "(25000,)\n",
      "(25000,)\n",
      "(25000,)\n"
     ]
    }
   ],
   "source": [
    "#print shape of train_data and train_labels\n",
    "print(train_data.shape)\n",
    "print(train_labels.shape)\n",
    "\n",
    "print(test_data.shape)\n",
    "print(test_labels.shape)"
   ]
  },
  {
   "cell_type": "code",
   "execution_count": 7,
   "metadata": {},
   "outputs": [
    {
     "data": {
      "text/plain": [
       "9999"
      ]
     },
     "execution_count": 7,
     "metadata": {},
     "output_type": "execute_result"
    }
   ],
   "source": [
    "max([max(sequence) for sequence in train_data])"
   ]
  },
  {
   "cell_type": "code",
   "execution_count": 8,
   "metadata": {},
   "outputs": [
    {
     "name": "stdout",
     "output_type": "stream",
     "text": [
      "? this film was just brilliant casting location scenery story direction everyone's really suited the part they played and you could just imagine being there robert ? is an amazing actor and now the same being director ? father came from the same scottish island as myself so i loved the fact there was a real connection with this film the witty remarks throughout the film were great it was just brilliant so much that i bought the film as soon as it was released for ? and would recommend it to everyone to watch and the fly fishing was amazing really cried at the end it was so sad and you know what they say if you cry at a film it must have been good and this definitely was also ? to the two little boy's that played the ? of norman and paul they were just brilliant children are often left out of the ? list i think because the stars that play them all grown up are such a big profile for the whole film but these children are amazing and should be praised for what they have done don't you think the whole story was so lovely because it was true and was someone's life after all that was shared with us all\n",
      "0 apple\n",
      "1 banana\n",
      "2 grapes\n",
      "3 pear\n"
     ]
    }
   ],
   "source": [
    "#For kicks\n",
    "word_index = imdb.get_word_index()\n",
    "reverse_word_index = dict((value,key) for (key,value) in word_index.items())\n",
    "decode_review = ' '.join( [reverse_word_index.get(i-3,'?') for i in train_data[0]])\n",
    "print(decode_review)\n",
    "my_list = ['apple', 'banana', 'grapes', 'pear']\n",
    "for c,value in enumerate(my_list):\n",
    "    print(c,value)"
   ]
  },
  {
   "cell_type": "code",
   "execution_count": 9,
   "metadata": {},
   "outputs": [],
   "source": [
    "import numpy as np\n",
    "def vectorize_sequence(data,dimension=10000):\n",
    "    result = np.zeros((len(data),dimension))\n",
    "    for i, value in enumerate(data):\n",
    "        result[i,value]=1\n",
    "    return result    "
   ]
  },
  {
   "cell_type": "code",
   "execution_count": 10,
   "metadata": {},
   "outputs": [],
   "source": [
    "x_train = vectorize_sequence(train_data)\n",
    "x_test  = vectorize_sequence(test_data)"
   ]
  },
  {
   "cell_type": "code",
   "execution_count": 11,
   "metadata": {},
   "outputs": [],
   "source": [
    "y_train = np.asarray(train_labels).astype('float32')\n",
    "y_test = np.asanyarray(test_labels).astype('float32')"
   ]
  },
  {
   "cell_type": "code",
   "execution_count": 12,
   "metadata": {},
   "outputs": [],
   "source": [
    "from keras import models\n",
    "from keras import layers\n",
    "model = models.Sequential()\n",
    "model.add(layers.Dense(16,activation='relu',input_shape=(10000,)))\n",
    "model.add(layers.Dense(16,activation='relu'))\n",
    "model.add(layers.Dense(1,activation='sigmoid'))"
   ]
  },
  {
   "cell_type": "code",
   "execution_count": 13,
   "metadata": {},
   "outputs": [
    {
     "name": "stdout",
     "output_type": "stream",
     "text": [
      "Train on 15000 samples, validate on 10000 samples\n",
      "Epoch 1/20\n",
      "15000/15000 [==============================] - 7s 452us/step - loss: 0.5084 - acc: 0.7813 - val_loss: 0.3797 - val_acc: 0.8684\n",
      "Epoch 2/20\n",
      "15000/15000 [==============================] - 4s 250us/step - loss: 0.3004 - acc: 0.9047 - val_loss: 0.3004 - val_acc: 0.8896\n",
      "Epoch 3/20\n",
      "15000/15000 [==============================] - 3s 210us/step - loss: 0.2179 - acc: 0.9285 - val_loss: 0.3087 - val_acc: 0.8712\n",
      "Epoch 4/20\n",
      "15000/15000 [==============================] - 3s 203us/step - loss: 0.1750 - acc: 0.9438 - val_loss: 0.2840 - val_acc: 0.8832\n",
      "Epoch 5/20\n",
      "15000/15000 [==============================] - 3s 177us/step - loss: 0.1427 - acc: 0.9543 - val_loss: 0.2842 - val_acc: 0.8869\n",
      "Epoch 6/20\n",
      "15000/15000 [==============================] - 3s 172us/step - loss: 0.1150 - acc: 0.9651 - val_loss: 0.3170 - val_acc: 0.8774\n",
      "Epoch 7/20\n",
      "15000/15000 [==============================] - 3s 187us/step - loss: 0.0980 - acc: 0.9707 - val_loss: 0.3127 - val_acc: 0.8846\n",
      "Epoch 8/20\n",
      "15000/15000 [==============================] - 3s 173us/step - loss: 0.0807 - acc: 0.9764 - val_loss: 0.3857 - val_acc: 0.8650\n",
      "Epoch 9/20\n",
      "15000/15000 [==============================] - 3s 188us/step - loss: 0.0661 - acc: 0.9821 - val_loss: 0.3636 - val_acc: 0.8781\n",
      "Epoch 10/20\n",
      "15000/15000 [==============================] - 3s 177us/step - loss: 0.0566 - acc: 0.9851 - val_loss: 0.3842 - val_acc: 0.8801\n",
      "Epoch 11/20\n",
      "15000/15000 [==============================] - 3s 180us/step - loss: 0.0427 - acc: 0.9905 - val_loss: 0.4126 - val_acc: 0.8776\n",
      "Epoch 12/20\n",
      "15000/15000 [==============================] - 3s 180us/step - loss: 0.0375 - acc: 0.9923 - val_loss: 0.4600 - val_acc: 0.8677\n",
      "Epoch 13/20\n",
      "15000/15000 [==============================] - 3s 206us/step - loss: 0.0299 - acc: 0.9930 - val_loss: 0.4712 - val_acc: 0.8728\n",
      "Epoch 14/20\n",
      "15000/15000 [==============================] - 3s 186us/step - loss: 0.0247 - acc: 0.9945 - val_loss: 0.5053 - val_acc: 0.8719\n",
      "Epoch 15/20\n",
      "15000/15000 [==============================] - 3s 174us/step - loss: 0.0192 - acc: 0.9967 - val_loss: 0.5322 - val_acc: 0.8710\n",
      "Epoch 16/20\n",
      "15000/15000 [==============================] - 3s 173us/step - loss: 0.0159 - acc: 0.9970 - val_loss: 0.5664 - val_acc: 0.8686\n",
      "Epoch 17/20\n",
      "15000/15000 [==============================] - 3s 190us/step - loss: 0.0129 - acc: 0.9983 - val_loss: 0.5978 - val_acc: 0.8671\n",
      "Epoch 18/20\n",
      "15000/15000 [==============================] - 3s 178us/step - loss: 0.0102 - acc: 0.9987 - val_loss: 0.6289 - val_acc: 0.8679\n",
      "Epoch 19/20\n",
      "15000/15000 [==============================] - 3s 173us/step - loss: 0.0106 - acc: 0.9976 - val_loss: 0.6610 - val_acc: 0.8664\n",
      "Epoch 20/20\n",
      "15000/15000 [==============================] - 3s 174us/step - loss: 0.0043 - acc: 0.9999 - val_loss: 0.6811 - val_acc: 0.8670\n"
     ]
    }
   ],
   "source": [
    "# compile stage\n",
    "from keras import optimizers\n",
    "from keras import losses\n",
    "from keras import metrics\n",
    "'''\n",
    "This is multiple line commeting in Python\n",
    "'''\n",
    "\n",
    "#model.compile(optimizer='rmsprop',\n",
    "#              loss='binary_crossentropy',\n",
    "#              metrics = ['accuracy'])\n",
    "\n",
    "#Validation\n",
    "\n",
    "x_val = x_train[:10000]\n",
    "partial_x_train = x_train[10000:]\n",
    "y_val = y_train[:10000]\n",
    "partial_y_train = y_train[10000:]\n",
    "\n",
    "#learing \n",
    "model.compile(optimizer='rmsprop',\n",
    "              loss='binary_crossentropy',\n",
    "              metrics=['acc'])\n",
    "\n",
    "# fit - testing the model \n",
    "\n",
    "\n",
    "history = model.fit(partial_x_train,\n",
    "                    partial_y_train,\n",
    "                    epochs=20,\n",
    "                    batch_size=512,\n",
    "                    validation_data=(x_val, y_val))\n",
    "\n",
    "\n",
    "\n",
    "              "
   ]
  },
  {
   "cell_type": "code",
   "execution_count": 15,
   "metadata": {},
   "outputs": [
    {
     "data": {
      "image/png": "[encoded data removed]",
      "text/plain": [
       "<matplotlib.figure.Figure at 0x1813e03dd8>"
      ]
     },
     "metadata": {},
     "output_type": "display_data"
    }
   ],
   "source": [
    "#plotting training and validation set loss\n",
    "\n",
    "import matplotlib.pyplot as plt\n",
    "#use history object in above cell - this object has history of training\n",
    "history_dict = history.history\n",
    "#print(len(history_dict['acc']))\n",
    "loss_value = history_dict['loss']\n",
    "val_loss_value = history_dict['val_loss']\n",
    "epochs = range(1,len(history_dict['acc'])+1)\n",
    "\n",
    "#plot\n",
    "plt.plot(epochs, loss_value, 'bo', label='Training loss')\n",
    "plt.plot(epochs, val_loss_value, 'b', label='Validation loss')\n",
    "plt.title('Training and validation loss')\n",
    "plt.xlabel('Epochs')\n",
    "plt.ylabel('Loss')\n",
    "plt.legend()\n",
    "plt.show()\n",
    "\n"
   ]
  },
  {
   "cell_type": "code",
   "execution_count": 16,
   "metadata": {},
   "outputs": [
    {
     "data": {
      "image/png": "[encoded data removed]",
      "text/plain": [
       "<matplotlib.figure.Figure at 0x1814a552e8>"
      ]
     },
     "metadata": {},
     "output_type": "display_data"
    }
   ],
   "source": [
    "#Now plot accuracy\n",
    "plt.clf()\n",
    "acc_value = history_dict['acc']\n",
    "val_acc_value= history_dict['val_acc']\n",
    "\n",
    "plt.plot(epochs,acc_value,'bo',label='Training loss')\n",
    "plt.plot(epochs,val_acc_value,'b',label='Validation loss')\n",
    "plt.title('Training and Validation set accuracy')\n",
    "plt.xlabel('Epochs')\n",
    "plt.ylabel('Accuracy')\n",
    "plt.legend()\n",
    "plt.show()"
   ]
  },
  {
   "cell_type": "code",
   "execution_count": 17,
   "metadata": {},
   "outputs": [
    {
     "name": "stdout",
     "output_type": "stream",
     "text": [
      "Epoch 1/4\n",
      "25000/25000 [==============================] - 4s 142us/step - loss: 0.4749 - acc: 0.8217\n",
      "Epoch 2/4\n",
      "25000/25000 [==============================] - 3s 132us/step - loss: 0.2658 - acc: 0.9097\n",
      "Epoch 3/4\n",
      "25000/25000 [==============================] - 4s 151us/step - loss: 0.1982 - acc: 0.9298\n",
      "Epoch 4/4\n",
      "25000/25000 [==============================] - 3s 130us/step - loss: 0.1679 - acc: 0.9404\n",
      "25000/25000 [==============================] - 6s 226us/step\n"
     ]
    }
   ],
   "source": [
    "#Model clearly overfit to the training data reduce the number of epochs and train the mode again\n",
    "model = models.Sequential()\n",
    "model.add(layers.Dense(16,activation='relu',input_shape=(10000,)))\n",
    "model.add(layers.Dense(16,activation='relu'))\n",
    "model.add(layers.Dense(1,activation='sigmoid'))\n",
    "model.compile(optimizer='rmsprop',\n",
    "              loss='binary_crossentropy',\n",
    "              metrics=['accuracy'])\n",
    "model.fit(x_train, y_train, epochs=4, batch_size=512)\n",
    "results = model.evaluate(x_test, y_test)"
   ]
  },
  {
   "cell_type": "code",
   "execution_count": 18,
   "metadata": {},
   "outputs": [
    {
     "data": {
      "text/plain": [
       "array([[0.138627  ],\n",
       "       [0.99970204],\n",
       "       [0.29618216],\n",
       "       ...,\n",
       "       [0.07151376],\n",
       "       [0.04316371],\n",
       "       [0.47817522]], dtype=float32)"
      ]
     },
     "execution_count": 18,
     "metadata": {},
     "output_type": "execute_result"
    }
   ],
   "source": [
    "# make predictions\n",
    "model.predict(x_test)"
   ]
  },
  {
   "cell_type": "code",
   "execution_count": null,
   "metadata": {},
   "outputs": [],
   "source": []
  }
 ],
 "metadata": {
  "kernelspec": {
   "display_name": "Python 3",
   "language": "python",
   "name": "python3"
  },
  "language_info": {
   "codemirror_mode": {
    "name": "ipython",
    "version": 3
   },
   "file_extension": ".py",
   "mimetype": "text/x-python",
   "name": "python",
   "nbconvert_exporter": "python",
   "pygments_lexer": "ipython3",
   "version": "3.6.4"
  }
 },
 "nbformat": 4,
 "nbformat_minor": 2
}
